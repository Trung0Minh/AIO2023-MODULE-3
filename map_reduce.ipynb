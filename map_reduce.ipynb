{
  "nbformat": 4,
  "nbformat_minor": 0,
  "metadata": {
    "colab": {
      "provenance": [],
      "authorship_tag": "ABX9TyO4XENuj4zO3js1alwPjNkf",
      "include_colab_link": true
    },
    "kernelspec": {
      "name": "python3",
      "display_name": "Python 3"
    },
    "language_info": {
      "name": "python"
    }
  },
  "cells": [
    {
      "cell_type": "markdown",
      "metadata": {
        "id": "view-in-github",
        "colab_type": "text"
      },
      "source": [
        "<a href=\"https://colab.research.google.com/github/Trung0Minh/AIO2023-MODULE-3/blob/main/map_reduce.ipynb\" target=\"_parent\"><img src=\"https://colab.research.google.com/assets/colab-badge.svg\" alt=\"Open In Colab\"/></a>"
      ]
    },
    {
      "cell_type": "code",
      "source": [
        "def find_longest_string(list_of_strings):\n",
        "    longest_string = \"\"\n",
        "    for string in list_of_strings:\n",
        "        if len(string) > len(longest_string):\n",
        "            longest_string = string\n",
        "    return longest_string"
      ],
      "metadata": {
        "id": "jj3dcn_Eri2B"
      },
      "execution_count": null,
      "outputs": []
    },
    {
      "cell_type": "code",
      "source": [
        "list_of_strings = ['AIO2025', 'BigData', 'MapReduce']\n",
        "%time find_longest_string(list_of_strings)"
      ],
      "metadata": {
        "colab": {
          "base_uri": "https://localhost:8080/",
          "height": 70
        },
        "id": "oeLrKrZZr6Na",
        "outputId": "8bd94e8b-bb7a-41b1-dc8c-d2f5636532eb"
      },
      "execution_count": null,
      "outputs": [
        {
          "output_type": "stream",
          "name": "stdout",
          "text": [
            "CPU times: user 5 µs, sys: 1 µs, total: 6 µs\n",
            "Wall time: 16 µs\n"
          ]
        },
        {
          "output_type": "execute_result",
          "data": {
            "text/plain": [
              "'MapReduce'"
            ],
            "application/vnd.google.colaboratory.intrinsic+json": {
              "type": "string"
            }
          },
          "metadata": {},
          "execution_count": 2
        }
      ]
    },
    {
      "cell_type": "code",
      "source": [
        "large_list_of_strings = list_of_strings * 10000\n",
        "%time find_longest_string(large_list_of_strings)"
      ],
      "metadata": {
        "colab": {
          "base_uri": "https://localhost:8080/",
          "height": 70
        },
        "id": "mbdgopyEsJK1",
        "outputId": "2c29d234-0dad-4416-96a0-685f7da8fb9f"
      },
      "execution_count": null,
      "outputs": [
        {
          "output_type": "stream",
          "name": "stdout",
          "text": [
            "CPU times: user 1.39 ms, sys: 7 µs, total: 1.39 ms\n",
            "Wall time: 1.4 ms\n"
          ]
        },
        {
          "output_type": "execute_result",
          "data": {
            "text/plain": [
              "'MapReduce'"
            ],
            "application/vnd.google.colaboratory.intrinsic+json": {
              "type": "string"
            }
          },
          "metadata": {},
          "execution_count": 41
        }
      ]
    },
    {
      "cell_type": "code",
      "source": [
        "mapper = len\n",
        "def reducer(p, c):\n",
        "    if p[1] > c[1]:\n",
        "        return p\n",
        "    return c"
      ],
      "metadata": {
        "id": "W8MzYzLfvRCq"
      },
      "execution_count": null,
      "outputs": []
    },
    {
      "cell_type": "code",
      "source": [
        "from functools import reduce"
      ],
      "metadata": {
        "id": "GQeMfYQRvtDH"
      },
      "execution_count": null,
      "outputs": []
    },
    {
      "cell_type": "code",
      "source": [
        "%time\n",
        "mapped = map(mapper, large_list_of_strings)\n",
        "print(mapped)\n",
        "mapped = zip(large_list_of_strings, mapped)\n",
        "print(mapped)\n",
        "reduced = reduce(reducer, mapped)\n",
        "print(reduced)"
      ],
      "metadata": {
        "colab": {
          "base_uri": "https://localhost:8080/"
        },
        "id": "3n5YC0J1vyAq",
        "outputId": "19d5830f-d64c-4ef9-be28-4eaaec0dd998"
      },
      "execution_count": null,
      "outputs": [
        {
          "output_type": "stream",
          "name": "stdout",
          "text": [
            "CPU times: user 3 µs, sys: 0 ns, total: 3 µs\n",
            "Wall time: 5.96 µs\n",
            "<map object at 0x7bc14817c970>\n",
            "<zip object at 0x7bc14819f100>\n",
            "('MapReduce', 9)\n"
          ]
        }
      ]
    },
    {
      "cell_type": "code",
      "source": [
        "def chunks(l, n):\n",
        "    for i in range(0, len(l), n):\n",
        "        yield l[i:i + n]"
      ],
      "metadata": {
        "id": "qxpERdwxwiAn"
      },
      "execution_count": null,
      "outputs": []
    },
    {
      "cell_type": "code",
      "source": [
        "l = 'a;sdhsno;sno;svohevoeoere ldlfnlsadnvo;dnond'\n",
        "gen_obj = chunks(l, 10)"
      ],
      "metadata": {
        "id": "BZ93Ua3Pya4X"
      },
      "execution_count": null,
      "outputs": []
    },
    {
      "cell_type": "code",
      "source": [
        "print(next(gen_obj))"
      ],
      "metadata": {
        "colab": {
          "base_uri": "https://localhost:8080/"
        },
        "id": "KOLc1s_dys5a",
        "outputId": "07922c84-3cd0-4dee-f96c-524e3352526b"
      },
      "execution_count": null,
      "outputs": [
        {
          "output_type": "stream",
          "name": "stdout",
          "text": [
            "no;svohevo\n"
          ]
        }
      ]
    },
    {
      "cell_type": "code",
      "source": [
        "%time\n",
        "data_chunks = chunks(large_list_of_strings, 1000)\n",
        "reduced_all = []\n",
        "for chunk in data_chunks:\n",
        "    mapped_chunk = map(mapper, chunk)\n",
        "    mapped_chunk = zip(chunk, mapped_chunk)\n",
        "\n",
        "    reduced_chunk = reduce(reducer, mapped_chunk)\n",
        "    reduced_all.append(reduced_chunk)\n",
        "\n",
        "reduced = reduce(reducer, reduced_all)\n",
        "print(reduced)"
      ],
      "metadata": {
        "colab": {
          "base_uri": "https://localhost:8080/"
        },
        "id": "Q6_FSV_Pw1Q_",
        "outputId": "3329c243-4551-4360-cc05-50b10b22d526"
      },
      "execution_count": null,
      "outputs": [
        {
          "output_type": "stream",
          "name": "stdout",
          "text": [
            "CPU times: user 4 µs, sys: 0 ns, total: 4 µs\n",
            "Wall time: 7.87 µs\n",
            "('MapReduce', 9)\n"
          ]
        }
      ]
    },
    {
      "cell_type": "code",
      "source": [
        "def chunks_mapper(chunk):\n",
        "    mapped_chunk = map(mapper, chunk)\n",
        "    mapped_chunk = zip(chunk, mapped_chunk)\n",
        "    return reduce(reducer, mapped_chunk)"
      ],
      "metadata": {
        "id": "e67Cw7gX0toG"
      },
      "execution_count": null,
      "outputs": []
    },
    {
      "cell_type": "code",
      "source": [
        "%time\n",
        "data_chunks = chunks(large_list_of_strings, 30)\n",
        "mapped_chunks = map(chunks_mapper, data_chunks)\n",
        "reduced = reduce(reducer, mapped_chunks)\n",
        "print(reduced)"
      ],
      "metadata": {
        "colab": {
          "base_uri": "https://localhost:8080/"
        },
        "id": "y_2JzdXb5Iuj",
        "outputId": "900b7a68-d5f7-4e68-f0bd-c9ba27f5cf53"
      },
      "execution_count": null,
      "outputs": [
        {
          "output_type": "stream",
          "name": "stdout",
          "text": [
            "CPU times: user 2 µs, sys: 0 ns, total: 2 µs\n",
            "Wall time: 4.53 µs\n",
            "('MapReduce', 9)\n"
          ]
        }
      ]
    },
    {
      "cell_type": "code",
      "source": [
        "import multiprocessing as mp\n",
        "Poolpool = mp.Pool(processes=mp.cpu_count())\n",
        "print(mp.cpu_count())"
      ],
      "metadata": {
        "colab": {
          "base_uri": "https://localhost:8080/"
        },
        "id": "cQeq6e-85ejB",
        "outputId": "61e88466-ab77-495b-a966-5eab341beef7"
      },
      "execution_count": null,
      "outputs": [
        {
          "output_type": "stream",
          "name": "stdout",
          "text": [
            "2\n"
          ]
        }
      ]
    },
    {
      "cell_type": "code",
      "source": [
        "%time\n",
        "data_chunks = chunks(large_list_of_strings, 30)\n",
        "mapped = Poolpool.map(chunks_mapper, data_chunks)\n",
        "reduced = reduce(reducer, mapped)\n",
        "print(reduced)"
      ],
      "metadata": {
        "colab": {
          "base_uri": "https://localhost:8080/"
        },
        "id": "PsLHcHea5vWT",
        "outputId": "49c4fa65-f387-4a6c-f6cd-4cc928ebf25b"
      },
      "execution_count": null,
      "outputs": [
        {
          "output_type": "stream",
          "name": "stdout",
          "text": [
            "CPU times: user 4 µs, sys: 0 ns, total: 4 µs\n",
            "Wall time: 6.91 µs\n",
            "('MapReduce', 9)\n"
          ]
        }
      ]
    }
  ]
}