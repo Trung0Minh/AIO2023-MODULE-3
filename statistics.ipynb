{
  "nbformat": 4,
  "nbformat_minor": 0,
  "metadata": {
    "colab": {
      "provenance": [],
      "authorship_tag": "ABX9TyMr1P7oHldDP1RjNd8ZeJYG",
      "include_colab_link": true
    },
    "kernelspec": {
      "name": "python3",
      "display_name": "Python 3"
    },
    "language_info": {
      "name": "python"
    }
  },
  "cells": [
    {
      "cell_type": "markdown",
      "metadata": {
        "id": "view-in-github",
        "colab_type": "text"
      },
      "source": [
        "<a href=\"https://colab.research.google.com/github/Trung0Minh/AIO2023-MODULE-3/blob/main/statistics.ipynb\" target=\"_parent\"><img src=\"https://colab.research.google.com/assets/colab-badge.svg\" alt=\"Open In Colab\"/></a>"
      ]
    },
    {
      "cell_type": "code",
      "source": [
        "import numpy as np\n",
        "import pandas as pd\n",
        "import cv2\n",
        "from google.colab.patches import cv2_imshow"
      ],
      "metadata": {
        "id": "TB1IdhBfCDX5"
      },
      "execution_count": null,
      "outputs": []
    },
    {
      "cell_type": "code",
      "source": [
        "def cosine_similarity(x, y):\n",
        "    numerator = np.dot(x, y)\n",
        "    denominator = np.linalg.norm(x) * np.linalg.norm(y)\n",
        "    return numerator / denominator"
      ],
      "metadata": {
        "id": "J0L98bPECGRQ"
      },
      "execution_count": null,
      "outputs": []
    },
    {
      "cell_type": "code",
      "source": [
        "def window_based_matching_cosine(left_img, right_img, disparity_range, kernel_size):\n",
        "    left = cv2.imread(left_img, 0)\n",
        "    right = cv2.imread(right_img, 0)\n",
        "\n",
        "    left = left.astype(np.float32)\n",
        "    right = right.astype(np.float32)\n",
        "\n",
        "    height, width = left.shape\n",
        "\n",
        "    depth = np.zeros((height, width), np.uint8)\n",
        "    kernel_half = kernel_size // 2\n",
        "    scale = 3\n",
        "\n",
        "    for y in range(kernel_half, height - kernel_half):\n",
        "        for x in range(kernel_half, width - kernel_half):\n",
        "            disparity = 0\n",
        "            cost_optimal = -1\n",
        "            for d in range(disparity_range):\n",
        "                dist = x - d - kernel_half\n",
        "                cost = -1\n",
        "                if dist > 0:\n",
        "                    cost = cosine_similarity(left[y - kernel_half:y + kernel_half + 1, x - kernel_half:x + kernel_half + 1].flatten(),\n",
        "                                             right[y - kernel_half:y + kernel_half + 1, x - kernel_half - d:x + kernel_half + 1 - d].flatten())\n",
        "                    if cost > cost_optimal:\n",
        "                        cost_optimal = cost\n",
        "                        disparity = d\n",
        "\n",
        "            depth[y, x] = disparity * scale\n",
        "\n",
        "    return depth"
      ],
      "metadata": {
        "id": "ih2OrJ0dCcc-"
      },
      "execution_count": 45,
      "outputs": []
    },
    {
      "cell_type": "code",
      "source": [
        "def compute_rms_error(matrix1, matrix2):\n",
        "    return np.sqrt(np.mean(np.square(matrix1 - matrix2)))"
      ],
      "metadata": {
        "id": "1sfNH2whFbM_"
      },
      "execution_count": null,
      "outputs": []
    },
    {
      "cell_type": "code",
      "source": [
        "left_img_path = 'view1_d.png'\n",
        "right_img_path = 'view5_d.png'\n",
        "groundtruth_img_path = 'disp1.png'\n",
        "\n",
        "disparity_range = 64\n",
        "kernel_size = 5\n",
        "\n",
        "depth = window_based_matching_cosine(left_img_path, right_img_path, disparity_range, kernel_size)\n",
        "\n",
        "groundtruth = cv2.imread(groundtruth_img_path, 0)\n",
        "rmse = compute_rms_error(depth, groundtruth)\n",
        "print(\"RMSE:\", rmse)"
      ],
      "metadata": {
        "colab": {
          "base_uri": "https://localhost:8080/"
        },
        "id": "9WMq0QcpGEwP",
        "outputId": "6fcf48dc-2c90-470c-bbf2-e76fbf7b6506"
      },
      "execution_count": 46,
      "outputs": [
        {
          "output_type": "stream",
          "name": "stdout",
          "text": [
            "RMSE: 5.605343375188772\n"
          ]
        }
      ]
    },
    {
      "cell_type": "code",
      "source": [
        "def compute_correlation_coefficient(X, Y):\n",
        "    N = len(X)\n",
        "    numerator = np.mean((X - np.mean(X)) * (Y - np.mean(Y)))\n",
        "    denominator = np.std(X) * np.std(Y)\n",
        "    return np.round(numerator / denominator, 2)"
      ],
      "metadata": {
        "id": "VZcPxEr0MCBG"
      },
      "execution_count": null,
      "outputs": []
    },
    {
      "cell_type": "code",
      "source": [
        "def window_based_matching_correlation(left_img, right_img, disparity_range, kernel_size):\n",
        "    left = cv2.imread(left_img, 0)\n",
        "    right = cv2.imread(right_img, 0)\n",
        "\n",
        "    left = left.astype(np.float32)\n",
        "    right = right.astype(np.float32)\n",
        "\n",
        "    height, width = left.shape\n",
        "\n",
        "    depth = np.zeros((height, width), np.uint8)\n",
        "    kernel_half = kernel_size // 2\n",
        "    scale = 3\n",
        "\n",
        "    for y in range(kernel_half, height - kernel_half):\n",
        "        for x in range(kernel_half, width - kernel_half):\n",
        "            disparity = 0\n",
        "            cost_optimal = -1\n",
        "            for d in range(disparity_range):\n",
        "                dist = x - d - kernel_half\n",
        "                cost = -1\n",
        "                if dist > 0:\n",
        "                    cost = compute_correlation_coefficient(left[y - kernel_half:y + kernel_half + 1, x - kernel_half:x + kernel_half + 1],\n",
        "                                             right[y - kernel_half:y + kernel_half + 1, x - kernel_half - d:x + kernel_half + 1 - d])\n",
        "                    if cost > cost_optimal:\n",
        "                        cost_optimal = cost\n",
        "                        disparity = d\n",
        "\n",
        "            depth[y, x] = disparity * scale\n",
        "\n",
        "    return depth"
      ],
      "metadata": {
        "id": "Y7WOpqRcQbEq"
      },
      "execution_count": null,
      "outputs": []
    },
    {
      "cell_type": "code",
      "source": [
        "depth = window_based_matching_correlation(left_img_path, right_img_path, disparity_range, kernel_size)\n",
        "rmse = compute_rms_error(depth, groundtruth)\n",
        "print(\"RMSE:\", rmse)"
      ],
      "metadata": {
        "colab": {
          "base_uri": "https://localhost:8080/"
        },
        "id": "0Ot5wr24Mmuc",
        "outputId": "220119ba-12e1-4209-a474-41eba86d12a8"
      },
      "execution_count": 47,
      "outputs": [
        {
          "metadata": {
            "tags": null
          },
          "name": "stderr",
          "output_type": "stream",
          "text": [
            "<ipython-input-40-b998f2eea59c>:5: RuntimeWarning: invalid value encountered in scalar divide\n",
            "  return np.round(numerator / denominator, 2)\n"
          ]
        },
        {
          "output_type": "stream",
          "name": "stdout",
          "text": [
            "RMSE: 5.38587686965895\n"
          ]
        }
      ]
    }
  ]
}